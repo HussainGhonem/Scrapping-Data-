{
 "cells": [
  {
   "cell_type": "code",
   "execution_count": 1,
   "metadata": {},
   "outputs": [],
   "source": [
    "import pandas as pd"
   ]
  },
  {
   "cell_type": "code",
   "execution_count": 2,
   "metadata": {},
   "outputs": [],
   "source": [
    "import csv"
   ]
  },
  {
   "cell_type": "code",
   "execution_count": 3,
   "metadata": {},
   "outputs": [],
   "source": [
    "drivertable = pd.read_csv(\"Drivers.csv\")"
   ]
  },
  {
   "cell_type": "code",
   "execution_count": 4,
   "metadata": {},
   "outputs": [],
   "source": [
    "teamtable = pd.read_csv(\"Teams.csv\")"
   ]
  },
  {
   "cell_type": "code",
   "execution_count": 8,
   "metadata": {},
   "outputs": [],
   "source": [
    "header=\"RacerRanking,Driver,Team,RacerScore,TeamScore\""
   ]
  },
  {
   "cell_type": "code",
   "execution_count": 9,
   "metadata": {},
   "outputs": [],
   "source": [
    "header=header.split(\",\")            "
   ]
  },
  {
   "cell_type": "code",
   "execution_count": 10,
   "metadata": {},
   "outputs": [],
   "source": [
    "with open('RacersinTeams.csv', 'w', newline='', encoding='utf8') as f:\n",
    "    \n",
    "    writer = csv.writer(f)\n",
    "    \n",
    "    writer.writerow(header)\n",
    "    \n",
    "    a=\"\"\n",
    "    b=\"\"\n",
    "    g=\"\"\n",
    "    d=\"\"\n",
    "    e=\"\"\n",
    "    z=0\n",
    "    for x in teamtable.Team:\n",
    "        z=z+1\n",
    "        i=0    \n",
    "        c=0\n",
    "        for y in drivertable.Team:\n",
    "            c=c+1\n",
    "            if x==y:\n",
    "                for a in drivertable.Pos:\n",
    "                    i=i+1\n",
    "                    if i==c:\n",
    "                        i=0\n",
    "                        break;\n",
    "                for b in drivertable.Driver:\n",
    "                    i=i+1\n",
    "                    if i==c:\n",
    "                        i=0\n",
    "                        break;\n",
    "                for g in drivertable.Team:\n",
    "                    i=i+1\n",
    "                    if i==c:\n",
    "                        i=0\n",
    "                        break;\n",
    "                for d in drivertable.PTS:\n",
    "                    i=i+1\n",
    "                    if i==c:\n",
    "                        i=0\n",
    "                        break;\n",
    "                for h in teamtable.PTS:\n",
    "                    i=i+1\n",
    "                    if i==(z):\n",
    "                        i=0\n",
    "                        break;\n",
    "                o=a,b,\" \",g,\" \",d,\" \",h,\" \"\n",
    "                o=str(o)\n",
    "                o = o.translate({ord(i): None for i in \"][')(,\"})\n",
    "                p=o.split(\"  \")\n",
    "                writer.writerow(p)"
   ]
  },
  {
   "cell_type": "code",
   "execution_count": null,
   "metadata": {},
   "outputs": [],
   "source": []
  }
 ],
 "metadata": {
  "kernelspec": {
   "display_name": "Python 3",
   "language": "python",
   "name": "python3"
  },
  "language_info": {
   "codemirror_mode": {
    "name": "ipython",
    "version": 3
   },
   "file_extension": ".py",
   "mimetype": "text/x-python",
   "name": "python",
   "nbconvert_exporter": "python",
   "pygments_lexer": "ipython3",
   "version": "3.8.5"
  }
 },
 "nbformat": 4,
 "nbformat_minor": 4
}
