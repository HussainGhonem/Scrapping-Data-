{
 "cells": [
  {
   "cell_type": "code",
   "execution_count": 1,
   "metadata": {},
   "outputs": [],
   "source": [
    "import requests"
   ]
  },
  {
   "cell_type": "code",
   "execution_count": 2,
   "metadata": {},
   "outputs": [],
   "source": [
    "import csv"
   ]
  },
  {
   "cell_type": "code",
   "execution_count": 3,
   "metadata": {},
   "outputs": [],
   "source": [
    "req = requests.get(\"https://www.formula1.com/en/results.html/2021/team.html\")"
   ]
  },
  {
   "cell_type": "code",
   "execution_count": 4,
   "metadata": {},
   "outputs": [],
   "source": [
    "from bs4 import BeautifulSoup"
   ]
  },
  {
   "cell_type": "code",
   "execution_count": 5,
   "metadata": {},
   "outputs": [],
   "source": [
    "page = req.text"
   ]
  },
  {
   "cell_type": "code",
   "execution_count": 6,
   "metadata": {},
   "outputs": [],
   "source": [
    "soup = BeautifulSoup(page, 'html.parser')"
   ]
  },
  {
   "cell_type": "code",
   "execution_count": 7,
   "metadata": {},
   "outputs": [],
   "source": [
    "table_demographics = soup.select_one(\"table\")"
   ]
  },
  {
   "cell_type": "code",
   "execution_count": 8,
   "metadata": {},
   "outputs": [
    {
     "data": {
      "text/html": [
       "<table class=\"resultsarchive-table\">\n",
       "<thead>\n",
       "<tr>\n",
       "<th class=\"limiter\"></th>\n",
       "<th><abbr title=\"Position\">Pos</abbr></th>\n",
       "<th>Team</th>\n",
       "<th><abbr title=\"Points\">PTS</abbr></th>\n",
       "<th class=\"limiter\"></th>\n",
       "</tr>\n",
       "</thead>\n",
       "<tbody>\n",
       "<tr>\n",
       "<td class=\"limiter\"></td>\n",
       "<td class=\"dark\">1</td>\n",
       "<td>\n",
       "<a class=\"dark bold uppercase ArchiveLink\" data-ajax-url=\"/content/fom-website/en/results/jcr:content/resultsarchive.html/2021/team/mercedes.html\" href=\"/en/results.html/2021/team/mercedes.html\">Mercedes</a>\n",
       "</td>\n",
       "<td class=\"dark bold\">101</td>\n",
       "<td class=\"limiter\"></td>\n",
       "</tr>\n",
       "<tr>\n",
       "<td class=\"limiter\"></td>\n",
       "<td class=\"dark\">2</td>\n",
       "<td>\n",
       "<a class=\"dark bold uppercase ArchiveLink\" data-ajax-url=\"/content/fom-website/en/results/jcr:content/resultsarchive.html/2021/team/red_bull_racing_honda.html\" href=\"/en/results.html/2021/team/red_bull_racing_honda.html\">Red Bull Racing Honda</a>\n",
       "</td>\n",
       "<td class=\"dark bold\">83</td>\n",
       "<td class=\"limiter\"></td>\n",
       "</tr>\n",
       "<tr>\n",
       "<td class=\"limiter\"></td>\n",
       "<td class=\"dark\">3</td>\n",
       "<td>\n",
       "<a class=\"dark bold uppercase ArchiveLink\" data-ajax-url=\"/content/fom-website/en/results/jcr:content/resultsarchive.html/2021/team/mclaren_mercedes.html\" href=\"/en/results.html/2021/team/mclaren_mercedes.html\">McLaren Mercedes</a>\n",
       "</td>\n",
       "<td class=\"dark bold\">53</td>\n",
       "<td class=\"limiter\"></td>\n",
       "</tr>\n",
       "<tr>\n",
       "<td class=\"limiter\"></td>\n",
       "<td class=\"dark\">4</td>\n",
       "<td>\n",
       "<a class=\"dark bold uppercase ArchiveLink\" data-ajax-url=\"/content/fom-website/en/results/jcr:content/resultsarchive.html/2021/team/ferrari.html\" href=\"/en/results.html/2021/team/ferrari.html\">Ferrari</a>\n",
       "</td>\n",
       "<td class=\"dark bold\">42</td>\n",
       "<td class=\"limiter\"></td>\n",
       "</tr>\n",
       "<tr>\n",
       "<td class=\"limiter\"></td>\n",
       "<td class=\"dark\">5</td>\n",
       "<td>\n",
       "<a class=\"dark bold uppercase ArchiveLink\" data-ajax-url=\"/content/fom-website/en/results/jcr:content/resultsarchive.html/2021/team/alpine_renault.html\" href=\"/en/results.html/2021/team/alpine_renault.html\">Alpine Renault</a>\n",
       "</td>\n",
       "<td class=\"dark bold\">13</td>\n",
       "<td class=\"limiter\"></td>\n",
       "</tr>\n",
       "<tr>\n",
       "<td class=\"limiter\"></td>\n",
       "<td class=\"dark\">6</td>\n",
       "<td>\n",
       "<a class=\"dark bold uppercase ArchiveLink\" data-ajax-url=\"/content/fom-website/en/results/jcr:content/resultsarchive.html/2021/team/alphatauri_honda.html\" href=\"/en/results.html/2021/team/alphatauri_honda.html\">AlphaTauri Honda</a>\n",
       "</td>\n",
       "<td class=\"dark bold\">9</td>\n",
       "<td class=\"limiter\"></td>\n",
       "</tr>\n",
       "<tr>\n",
       "<td class=\"limiter\"></td>\n",
       "<td class=\"dark\">7</td>\n",
       "<td>\n",
       "<a class=\"dark bold uppercase ArchiveLink\" data-ajax-url=\"/content/fom-website/en/results/jcr:content/resultsarchive.html/2021/team/aston_martin_mercedes.html\" href=\"/en/results.html/2021/team/aston_martin_mercedes.html\">Aston Martin Mercedes</a>\n",
       "</td>\n",
       "<td class=\"dark bold\">5</td>\n",
       "<td class=\"limiter\"></td>\n",
       "</tr>\n",
       "<tr>\n",
       "<td class=\"limiter\"></td>\n",
       "<td class=\"dark\">8</td>\n",
       "<td>\n",
       "<a class=\"dark bold uppercase ArchiveLink\" data-ajax-url=\"/content/fom-website/en/results/jcr:content/resultsarchive.html/2021/team/alfa_romeo_racing_ferrari.html\" href=\"/en/results.html/2021/team/alfa_romeo_racing_ferrari.html\">Alfa Romeo Racing Ferrari</a>\n",
       "</td>\n",
       "<td class=\"dark bold\">0</td>\n",
       "<td class=\"limiter\"></td>\n",
       "</tr>\n",
       "<tr>\n",
       "<td class=\"limiter\"></td>\n",
       "<td class=\"dark\">9</td>\n",
       "<td>\n",
       "<a class=\"dark bold uppercase ArchiveLink\" data-ajax-url=\"/content/fom-website/en/results/jcr:content/resultsarchive.html/2021/team/williams_mercedes.html\" href=\"/en/results.html/2021/team/williams_mercedes.html\">Williams Mercedes</a>\n",
       "</td>\n",
       "<td class=\"dark bold\">0</td>\n",
       "<td class=\"limiter\"></td>\n",
       "</tr>\n",
       "<tr>\n",
       "<td class=\"limiter\"></td>\n",
       "<td class=\"dark\">10</td>\n",
       "<td>\n",
       "<a class=\"dark bold uppercase ArchiveLink\" data-ajax-url=\"/content/fom-website/en/results/jcr:content/resultsarchive.html/2021/team/haas_ferrari.html\" href=\"/en/results.html/2021/team/haas_ferrari.html\">Haas Ferrari</a>\n",
       "</td>\n",
       "<td class=\"dark bold\">0</td>\n",
       "<td class=\"limiter\"></td>\n",
       "</tr>\n",
       "</tbody>\n",
       "</table>"
      ],
      "text/plain": [
       "<IPython.core.display.HTML object>"
      ]
     },
     "execution_count": 8,
     "metadata": {},
     "output_type": "execute_result"
    }
   ],
   "source": [
    "from IPython.core.display import HTML\n",
    "HTML(str(table_demographics))"
   ]
  },
  {
   "cell_type": "code",
   "execution_count": 9,
   "metadata": {},
   "outputs": [],
   "source": [
    "rows = [row for row in table_demographics.find_all(\"tr\")]"
   ]
  },
  {
   "cell_type": "code",
   "execution_count": 20,
   "metadata": {},
   "outputs": [],
   "source": [
    "header_row = rows[0]"
   ]
  },
  {
   "cell_type": "code",
   "execution_count": 11,
   "metadata": {},
   "outputs": [],
   "source": [
    "rem_nl = lambda s: s.replace(\"\\n\", \"\")"
   ]
  },
  {
   "cell_type": "code",
   "execution_count": 12,
   "metadata": {},
   "outputs": [],
   "source": [
    "columns = [rem_nl(col.get_text()) for col in header_row.find_all(\"th\") if col.get_text()]"
   ]
  },
  {
   "cell_type": "code",
   "execution_count": 13,
   "metadata": {},
   "outputs": [],
   "source": [
    "rem_nl_row = lambda s: s.replace(\"\\n\",\" \")"
   ]
  },
  {
   "cell_type": "code",
   "execution_count": 14,
   "metadata": {},
   "outputs": [],
   "source": [
    "indexes = [rem_nl_row(row.get_text()) for row in rows[1:]]"
   ]
  },
  {
   "cell_type": "code",
   "execution_count": 15,
   "metadata": {},
   "outputs": [],
   "source": [
    "indexes_str=str(indexes)"
   ]
  },
  {
   "cell_type": "code",
   "execution_count": 16,
   "metadata": {},
   "outputs": [],
   "source": [
    "indexes_str = indexes_str.translate({ord(i): None for i in \"][',\"})"
   ]
  },
  {
   "cell_type": "code",
   "execution_count": 17,
   "metadata": {},
   "outputs": [],
   "source": [
    "rows=indexes_str.split(\"  \")"
   ]
  },
  {
   "cell_type": "code",
   "execution_count": 21,
   "metadata": {},
   "outputs": [],
   "source": [
    "with open('Teams.csv', 'w', newline='', encoding='utf8') as f:\n",
    "    \n",
    "    writer = csv.writer(f)\n",
    "    \n",
    "    writer.writerow(columns)\n",
    "    \n",
    "    numofcolumns=len(columns)\n",
    "    \n",
    "    numofrows=int(len(rows)/(numofcolumns+1))\n",
    "    \n",
    "    writer.writerows([[rows[x+1+(1*i)+(numofcolumns*i)] for x in range(numofcolumns)] for i in range(numofrows)])"
   ]
  },
  {
   "cell_type": "code",
   "execution_count": null,
   "metadata": {},
   "outputs": [],
   "source": []
  }
 ],
 "metadata": {
  "kernelspec": {
   "display_name": "Python 3",
   "language": "python",
   "name": "python3"
  },
  "language_info": {
   "codemirror_mode": {
    "name": "ipython",
    "version": 3
   },
   "file_extension": ".py",
   "mimetype": "text/x-python",
   "name": "python",
   "nbconvert_exporter": "python",
   "pygments_lexer": "ipython3",
   "version": "3.8.5"
  }
 },
 "nbformat": 4,
 "nbformat_minor": 4
}
